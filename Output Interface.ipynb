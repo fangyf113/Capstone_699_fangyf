version https://git-lfs.github.com/spec/v1
oid sha256:689bdaf21738e0b73e516d411677ce8bb0b32423625088e4a43d8ac7e569ecad
size 14469
