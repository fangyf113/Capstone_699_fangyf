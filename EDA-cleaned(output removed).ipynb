{
 "cells": [
  {
   "cell_type": "markdown",
   "id": "03a1b1b4",
   "metadata": {},
   "source": [
    "## Capstone Project \n",
    "#### Data source:\n",
    "https://www.consumerfinance.gov/data-research/consumer-complaints/\n",
    "\n",
    "#### Data Description:\n",
    "This data set comes from CFPB and complaints that the CFPB sends to companies for response are published in the Consumer Complaint Database after the company responds, confirming a commercial relationship with the consumer, or after 15 days, whichever comes first.\n",
    "\n",
    "\n",
    "#### How we access this data:\n",
    "There are two ways, by downloading the dataset or through API.\n",
    "In our analysis, we will just be downloading the full set of dataset that is from the period `2011-12-01` to `2022-10-01`.\n",
    "\n"
   ]
  },
  {
   "cell_type": "code",
   "execution_count": null,
   "id": "1f00561f-ad25-4a5b-a708-25d162668fdb",
   "metadata": {},
   "outputs": [],
   "source": [
    "# If you are running this notebook in Jupyter lab, please make sure you run this part so that the visualizations will show up.\n",
    "# !pip install \"jupyterlab>=3\" \"ipywidgets>=7.6\"\n",
    "# !pip install plotly==5.10.0\n",
    "# !pip install altair"
   ]
  },
  {
   "cell_type": "code",
   "execution_count": null,
   "id": "96f5a185",
   "metadata": {},
   "outputs": [],
   "source": [
    "import pandas as pd\n",
    "import sklearn\n",
    "#import altair as alt\n",
    "import plotly.express as px\n",
    "import warnings\n",
    "warnings.filterwarnings('ignore')\n",
    "#alt.data_transformers.disable_max_rows()"
   ]
  },
  {
   "cell_type": "code",
   "execution_count": null,
   "id": "8a8994f5",
   "metadata": {},
   "outputs": [],
   "source": [
    "import zipfile\n",
    "# with zipfile.ZipFile('complaints-2022-10-23_09_54.csv.zip') as zip:\n",
    "#     with zip.open('complaints-2022-10-23_09_54.csv') as myZip:\n",
    "#         df = pd.read_csv(myZip) \n",
    "df=pd.read_csv('complaints-2022-10-23_09_54.csv')"
   ]
  },
  {
   "cell_type": "code",
   "execution_count": null,
   "id": "93720a2e",
   "metadata": {},
   "outputs": [],
   "source": [
    "df.shape"
   ]
  },
  {
   "cell_type": "markdown",
   "id": "9cf09fb0",
   "metadata": {},
   "source": [
    "#### Let's see what columns we have, and its description"
   ]
  },
  {
   "cell_type": "markdown",
   "id": "592bb942",
   "metadata": {},
   "source": [
    "| Column Name | Description | Data Type | Notes |\n",
    "| --- | --- | ---- | --- |\n",
    "| Date received | The date the CFPB received the complaint | date & time |  |\n",
    "| Product | The type of product the consumer identified in the complaint | plain text| This field is a categorical variable. |\n",
    "| Sub-product | The type of sub-product the consumer identified in the complaint | plain text| This field is a categorical variable. Not all Products have Sub-products. |\n",
    "| Issue | The issue the consumer identified in the complaint | plain text| This field is a categorical variable. Possible values are dependent on Product. |\n",
    "| Sub-issue | The sub-issue the consumer identified in the complaint | plain text | Possible values are dependent on product and issue. Not all Issues have corresponding Sub-issues. |\n",
    "| Consumer complaint narrative | Consumer complaint narrative is the consumer-submitted description of \"what happened\" from the complaint. Consumers must opt-in to share their narrative. We will not publish the narrative unless the consumer consents, and consumers can opt-out at any time. The CFPB takes reasonable steps to scrub personal information from each complaint that could be used to identify the consumer. | plain text | Consumers' descriptions of what happened are included if consumers consent to publishing the description and after we take steps to remove personal information.  |\n",
    "| Company public response | The company's optional, public-facing response to a consumer's complaint. Companies can choose to select a response from a pre-set list of options that will be posted on the public database. For example, \"Company believes complaint is the result of an isolated error.\" | plain text | Companies' public-facing responses to complaints are included if companies choose to publish one. Companies may select a public response from a set list of options as soon as they respond to the complaint, but no later than 180 days after the complaint was sent to the company for response. |\n",
    "| Company | The complaint is about this company. | plain text | This field is a categorical variable. |\n",
    "| State | The state of the mailing address provided by the consumer | plain text | This field is a categorical variable. |\n",
    "| ZIP code | The mailing ZIP code provided by the consumer. | plain text | Mailing ZIP code provided by the consumer. This field may: i) include the first five digits of a ZIP code; ii) include the first three digits of a ZIP code (if the consumer consented to publication of their complaint narrative); or iii) be blank (if ZIP codes have been submitted with non-numeric values, if there are less than 20,000 people in a given ZIP code, or if the complaint has an address outside of the United States). |\n",
    "| Tags | Data that supports easier searching and sorting of complaints submitted by or on behalf of consumers. For example, complaints where the submitter reports the age of the consumer as 62 years or older are tagged, ‘Older American.’ Complaints submitted by or on behalf of a servicemember or the spouse or dependent of a servicemember are tagged, ‘Servicemember.’ Servicemember includes anyone who is active duty, National Guard, or Reservist, as well as anyone who previously served and is a Veteran or retiree.  | plain text |   |\n",
    "| Consumer consent provided? | Identifies whether the consumer opted in to publish their complaint narrative. We do not publish the narrative unless the consumer consents and consumers can opt-out at any time. | plaint text | This field shows whether a consumer provided consent to publish their complaint narrative. |\n",
    "| Submitted via | How the complaint was submitted to the CFPB | plain text | This field is a categorical variable. |\n",
    "| Date sent to company | The date the CFPB sent the complaint to the company | date & time |  |\n",
    "| Company response to consumer | This is how the company responded. For example, \"Closed with explanation.\" | plain text | This field is a categorical variable. |\n",
    "| Timely response? | Whether the company gave a timely response | plain text | yes/no |\n",
    "| Consumer disputed? | Whether the consumer disputed the company’s response | plain text | yes/no <br> N/A: The Bureau discontinued the consumer dispute option on April 24, 2017. |\n",
    "| Complaint ID | The unique identification number for a complaint | number |   |"
   ]
  },
  {
   "cell_type": "code",
   "execution_count": null,
   "id": "fbafa90a",
   "metadata": {},
   "outputs": [],
   "source": [
    "df.columns.to_list()"
   ]
  },
  {
   "cell_type": "code",
   "execution_count": null,
   "id": "c24f5aea",
   "metadata": {},
   "outputs": [],
   "source": [
    "### Find missing values\n",
    "df.isnull().sum()"
   ]
  },
  {
   "cell_type": "code",
   "execution_count": null,
   "id": "e5401836",
   "metadata": {},
   "outputs": [],
   "source": [
    "df['Date_received_dt'] = pd.to_datetime(df['Date received'], format='%m/%d/%y')\n",
    "df['Date_sent_to_company_dt'] = pd.to_datetime(df['Date sent to company'], format='%m/%d/%y')\n",
    "df['time_diff'] = df['Date_sent_to_company_dt']-df['Date_received_dt']\n",
    "# The percentage of complaints that don't sent to the company on the same date.\n",
    "len(df[df['time_diff']!='0 days'])/len(df)*100"
   ]
  },
  {
   "cell_type": "code",
   "execution_count": null,
   "id": "eea64897",
   "metadata": {},
   "outputs": [],
   "source": [
    "# Let's take a quick look at the categorical variables\n",
    "categorical_var=['Product','Sub-product',\n",
    "'Issue',\n",
    "'Sub-issue']\n",
    "\n",
    "for i in categorical_var:\n",
    "    print(df[i].unique())"
   ]
  },
  {
   "cell_type": "code",
   "execution_count": null,
   "id": "36959ae4",
   "metadata": {},
   "outputs": [],
   "source": [
    "# alt.Chart(df).mark_bar().encode(x=alt.X('yearmonth(Date_received_dt):O', axis=alt.Axis(labelAngle=325)),\n",
    "#                     y=alt.Y('count(distinct Complaint ID):Q', scale=alt.Scale(zero=False)),)\n",
    "\n",
    "# text = bars.mark_text(\n",
    "#     align='left',\n",
    "#     baseline='middle',\n",
    "#     dy=-5  # Nudges text to right so it doesn't appear on top of the bar\n",
    "# ).encode(\n",
    "#     text='count(distinct Complaint ID):Q'\n",
    "# )\n",
    "\n",
    "# (bars + text).properties(height=300)"
   ]
  },
  {
   "cell_type": "code",
   "execution_count": null,
   "id": "0aefd313",
   "metadata": {},
   "outputs": [],
   "source": [
    "fig = px.histogram(df, x=\"Date_received_dt\")\n",
    "fig.show()"
   ]
  },
  {
   "cell_type": "code",
   "execution_count": null,
   "id": "c5d357ff",
   "metadata": {},
   "outputs": [],
   "source": [
    "#Number of cases by different product. --- Looks like that Product of Credit reporting, credit repair services remain as the top 1 product that receives complaints\n",
    "fig = px.histogram(df, x=\"Date_received_dt\", color='Product')\n",
    "fig.show()"
   ]
  },
  {
   "cell_type": "code",
   "execution_count": null,
   "id": "37959f72",
   "metadata": {},
   "outputs": [],
   "source": [
    "P = df.groupby(['Date_received_dt','Timely response?'])['Complaint ID'].count().reset_index()\n",
    "P"
   ]
  },
  {
   "cell_type": "code",
   "execution_count": null,
   "id": "3cf38db3",
   "metadata": {},
   "outputs": [],
   "source": [
    "P['Percentage'] = P.groupby('Date_received_dt')['Complaint ID'].apply(lambda x: x*100/x.sum())"
   ]
  },
  {
   "cell_type": "code",
   "execution_count": null,
   "id": "8b096a57",
   "metadata": {},
   "outputs": [],
   "source": [
    "P_yes=P[P['Timely response?']=='Yes']"
   ]
  },
  {
   "cell_type": "code",
   "execution_count": null,
   "id": "6596084b",
   "metadata": {},
   "outputs": [],
   "source": [
    "#Number of cases by different Timely Response. \n",
    "#--- Looks like companies are always consistent throughout the year, except that we see a decrease around Nov 2017.\n",
    "\n",
    "fig = px.line(P_yes, x='Date_received_dt',y=\"Percentage\")\n",
    "fig.show()"
   ]
  },
  {
   "cell_type": "code",
   "execution_count": null,
   "id": "c2f5eb6d",
   "metadata": {},
   "outputs": [],
   "source": [
    "#Here's the top 10 Company by number of complaints\n",
    "top10=df.groupby('Company')['Complaint ID'].count().reset_index(name='count') \\\n",
    "                             .sort_values(['count'], ascending=False) \\\n",
    "                             .head(10)\n",
    "top10_company=top10.Company.to_list()\n",
    "top10_df=df[df['Company'].isin(top10_company)]"
   ]
  },
  {
   "cell_type": "code",
   "execution_count": null,
   "id": "5d1c3bc2",
   "metadata": {},
   "outputs": [],
   "source": [
    "#Group by the data to year and month level\n",
    "P2=top10_df.groupby([top10_df['Date_received_dt'].dt.to_period('M').rename('Year-Month'),\n",
    "                     'Company','Timely response?'])['Complaint ID'].count().reset_index(name='count')\n",
    "\n",
    "P2['Percentage']=P2.groupby(['Year-Month'\n",
    "           ,'Company'])['count'].apply(lambda x: x*100/x.sum())\n",
    "\n"
   ]
  },
  {
   "cell_type": "code",
   "execution_count": null,
   "id": "49bc1bc6",
   "metadata": {},
   "outputs": [],
   "source": [
    "#Keep only timely response percentage.\n",
    "P2_yes=P2[P2['Timely response?']=='Yes']"
   ]
  },
  {
   "cell_type": "code",
   "execution_count": null,
   "id": "772eef4e",
   "metadata": {},
   "outputs": [],
   "source": [
    "#By looking at this chart, we could see that the timely reponse rate dropped for top 10 financial services. \n",
    "# For wells-fargo, we see dramastic drop to a rate below 70 around Oct 2016 and Jan 2017, and dropped below 90 around Oct 2019 and Dec 2019.\n",
    "# For Bank of America, we see drop below 60 around Jun 2021.\n",
    "# For Equifax, we see drop below 80 around May 2017, and below 70 around Nov 2017.\n",
    "# The other financial services has a stable response rate over time.\n",
    "fig = px.line(P2_yes, x=P2_yes['Year-Month'].dt.to_timestamp(),y=\"Percentage\",color='Company')\n",
    "fig.show()"
   ]
  },
  {
   "cell_type": "code",
   "execution_count": null,
   "id": "d6ca36d3-b2c6-40fb-9515-050d1733ef24",
   "metadata": {},
   "outputs": [],
   "source": [
    "P3=top10_df[top10_df['time_diff']!='0 days'].groupby(['Company','time_diff'])['Complaint ID'].count().reset_index(name='count')\n",
    "P3['Percentage']=P3.groupby(['Company'])['count'].apply(lambda x: x*100/x.sum())\n"
   ]
  },
  {
   "cell_type": "code",
   "execution_count": null,
   "id": "7518c5bb-1976-4ccb-998c-4dd912d81ef6",
   "metadata": {},
   "outputs": [],
   "source": [
    "for i in list(P3.Company.unique()):\n",
    "    Company_df=P3[P3['Company']==i]\n",
    "    Company_df['time_diff_str']=Company_df['time_diff'].astype(str)\n",
    "    fig=px.bar(Company_df,x='time_diff_str',y='Percentage',title=f'Company:{i}')\n",
    "    fig.show() "
   ]
  },
  {
   "cell_type": "code",
   "execution_count": null,
   "id": "2c5bbf93-91e4-43db-8148-0ffd27757a0d",
   "metadata": {},
   "outputs": [],
   "source": [
    "P4=df[df['time_diff']!='0 days'].groupby(['Product','time_diff'])['Complaint ID'].count().reset_index(name='count')\n",
    "P4['Percentage']=P4.groupby(['Product'])['count'].apply(lambda x: x*100/x.sum())"
   ]
  },
  {
   "cell_type": "code",
   "execution_count": null,
   "id": "14871122-c478-4b24-966b-c5691596a0d9",
   "metadata": {},
   "outputs": [],
   "source": [
    "for i in list(P4.Product.unique()):\n",
    "    Product_df=P4[P4['Product']==i]\n",
    "    Product_df['time_diff_str']=Product_df['time_diff'].astype(str)\n",
    "    fig=px.bar(Product_df,x='time_diff_str',y='Percentage',title=f'Product:{i}')\n",
    "    fig.show()  "
   ]
  },
  {
   "cell_type": "code",
   "execution_count": null,
   "id": "99bb44c9-f71a-4265-82fc-2af811bc8840",
   "metadata": {},
   "outputs": [],
   "source": []
  }
 ],
 "metadata": {
  "kernelspec": {
   "display_name": "conda_python3",
   "language": "python",
   "name": "conda_python3"
  },
  "language_info": {
   "codemirror_mode": {
    "name": "ipython",
    "version": 3
   },
   "file_extension": ".py",
   "mimetype": "text/x-python",
   "name": "python",
   "nbconvert_exporter": "python",
   "pygments_lexer": "ipython3",
   "version": "3.8.12"
  }
 },
 "nbformat": 4,
 "nbformat_minor": 5
}
