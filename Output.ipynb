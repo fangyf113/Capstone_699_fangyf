{
 "cells": [
  {
   "cell_type": "code",
   "execution_count": 1,
   "id": "e084e110-c90d-45d9-bef0-fc83d115c4c3",
   "metadata": {},
   "outputs": [
    {
     "name": "stderr",
     "output_type": "stream",
     "text": [
      "[nltk_data] Downloading package stopwords to /home/fangyf/nltk_data...\n",
      "[nltk_data]   Package stopwords is already up-to-date!\n"
     ]
    }
   ],
   "source": [
    "import pandas as pd\n",
    "from ipywidgets import AppLayout\n",
    "from ipywidgets import  widgets, interact, Dropdown, Layout, HTML, AppLayout, VBox, Label, HBox, Output\n",
    "import plotly.graph_objects as go\n",
    "import pickle\n",
    "import gensim.corpora as corpora\n",
    "\n",
    "import nltk\n",
    "import spacy #used for lemmatization\n",
    "nltk.download('stopwords')\n",
    "from nltk.corpus import stopwords  #stopwords\n",
    "from nltk.stem import WordNetLemmatizer  \n",
    "from sklearn.feature_extraction.text import TfidfVectorizer\n",
    "import gensim\n",
    "from gensim.utils import simple_preprocess\n",
    "import json\n",
    "#!pip install plotly"
   ]
  },
  {
   "cell_type": "code",
   "execution_count": 2,
   "id": "679b15a4-d412-47af-b48f-a3c0899e5657",
   "metadata": {},
   "outputs": [],
   "source": [
    "# Create text widget for output\n",
    "output_text = widgets.Text()\n",
    "\n",
    "# Create text widget for input\n",
    "input_text = widgets.Text()\n",
    "\n",
    "# Define function to bind value of the input to the output variable \n",
    "def bind_input_to_output(sender):\n",
    "    output_text.value = input_text.value\n",
    "input_text.on_submit(bind_input_to_output)"
   ]
  },
  {
   "cell_type": "code",
   "execution_count": 3,
   "id": "9ec34827-d472-4eb1-bd72-3278325b55ee",
   "metadata": {},
   "outputs": [],
   "source": [
    "#Load tfidf model\n",
    "lda_model_tfidf_lem_5 = 'lda_model_tfidf_lem_5.pkl'\n",
    "with open(lda_model_tfidf_lem_5, 'rb') as f:\n",
    "    lda_model_tfidf_lem_5 = pickle.load(f)  "
   ]
  },
  {
   "cell_type": "code",
   "execution_count": 4,
   "id": "9bf9c1e1-d575-4f5b-9977-14b0e2ae6a60",
   "metadata": {},
   "outputs": [],
   "source": [
    "import re\n",
    "import string\n",
    "\n",
    "def clean_text(text):\n",
    "    '''Make text lowercase, remove text in square brackets, remove punctuation and remove words containing numbers.'''\n",
    "    text = text.lower()\n",
    "    text = re.sub('\\[.*?\\]', '', text)\n",
    "    text = re.sub('[%s]' % re.escape(string.punctuation), '', text)\n",
    "    text = re.sub('\\w*\\d\\w*', '', text)\n",
    "    text = re.sub('[x*\\/]', '', text) #remove those dates with the format of XX/XX OR XXXX/XX/XX\n",
    "    text = re.sub('x', '', text)#remove \\n\n",
    "    text = re.sub('\\n', '', text)#remove \\n\n",
    "    return text\n",
    "\n",
    "stop_words = stopwords.words('english')\n",
    "stop_words.extend(['sent','told','received','said','asked','made','contacted','know','spoke','company','will','year','month'])\n",
    "\n",
    "# def sent_to_words(sentences):\n",
    "#     for sentence in sentences:\n",
    "#         yield(gensim.utils.simple_preprocess(str(sentence), deacc=True))  # deacc=True removes punctuations\n",
    "\n",
    "\n",
    "# def remove_stopwords(texts):\n",
    "#     return [[word for word in simple_preprocess(str(doc)) if word not in stop_words] for doc in texts]\n",
    "\n",
    "def bigrams(words, bi_min=15,threshold=100):\n",
    "    bigram = gensim.models.Phrases(words, min_count = bi_min,threshold=threshold)\n",
    "    bigram_mod = gensim.models.phrases.Phraser(bigram)\n",
    "    return bigram_mod\n",
    "\n",
    "def trigrams(words, tri_min=15,threshold=100):\n",
    "    bigram = gensim.models.Phrases(words, min_count=tri_min, threshold=threshold)\n",
    "    trigram = gensim.models.Phrases(bigram[words],threshold=100)\n",
    "    trigram_mod = gensim.models.phrases.Phraser(trigram)\n",
    "    return bigram_mod\n",
    "\n",
    "def lemmatization(texts, allowed_postags=['NOUN', 'ADJ']):\n",
    "    \"\"\"https://spacy.io/api/annotation\"\"\"\n",
    "    texts_out = []\n",
    "    for sent in texts:\n",
    "        doc = nlp(\" \".join(sent)) \n",
    "        texts_out.append([token.lemma_ for token in doc if token.pos_ in allowed_postags])\n",
    "    return texts_out"
   ]
  },
  {
   "cell_type": "code",
   "execution_count": 5,
   "id": "f81e5ef3-722e-42ea-8aa7-552884b2db74",
   "metadata": {},
   "outputs": [
    {
     "name": "stderr",
     "output_type": "stream",
     "text": [
      "/home/fangyf/.local/lib/python3.9/site-packages/spacy/language.py:1895: UserWarning: [W123] Argument disable with value ['ner', 'parser'] is used instead of ['senter'] as specified in the config. Be aware that this might affect other components in your pipeline.\n",
      "  warnings.warn(\n"
     ]
    }
   ],
   "source": [
    "spacy.prefer_gpu() # or spacy.require_gpu()\n",
    "nlp = spacy.load(\"en_core_web_sm\", disable=['ner', 'parser'])\n",
    "def run_model(text_input):\n",
    "    clean_txt=clean_text(text_input)\n",
    "    words=gensim.utils.simple_preprocess(str(clean_txt), deacc=True)\n",
    "    data_words_nostops=[[word for word in words if word not in stop_words]]\n",
    "    bigram_mod = bigrams(data_words_nostops)\n",
    "    bigrams_output = [bigram_mod[w] for w in data_words_nostops]\n",
    "\n",
    "    data_lemmatized_bigrams = lemmatization(bigrams_output)\n",
    "    id2word_dic_tfidf='lda_model_tfidf_lem_5.model.id2word'\n",
    "    id2word_tfidf = corpora.Dictionary.load(id2word_dic_tfidf)\n",
    "\n",
    "    texts=data_lemmatized_bigrams\n",
    "# Term Document Frequency\n",
    "    corpus = [id2word_tfidf.doc2bow(text) for text in texts]\n",
    "    for i, row_list in enumerate(lda_model_tfidf_lem_5[corpus]):\n",
    "        row = row_list[0] if lda_model_tfidf_lem_5.per_word_topics else row_list            \n",
    "        row = sorted(row, key=lambda x: (x[1]), reverse=True)\n",
    "    # print(row)\n",
    "        # Get the Dominant topic, Perc Contribution and Keywords for each document\n",
    "        for j, (topic_num, prop_topic) in enumerate(row):\n",
    "            if j == 0:  # => dominant topic\n",
    "                wp = lda_model_tfidf_lem_5.show_topic(topic_num)\n",
    "                topic_keywords = \", \".join([word for word, prop in wp])\n",
    "                result=int(topic_num)\n",
    "                result2=prop_topic, \n",
    "               \n",
    "    out = Output(layout={'border': '1px solid white'})\n",
    "    with out:\n",
    "        display(HTML(value=f'Predicted Topic: {result},  Perc Contribution: {result2},  Keywords:{topic_keywords}'))\n",
    "    return out\n",
    "        \n",
    "\n"
   ]
  },
  {
   "cell_type": "code",
   "execution_count": 6,
   "id": "22559bc8-e2c7-4510-9397-4aab1bc6816e",
   "metadata": {},
   "outputs": [
    {
     "data": {
      "application/vnd.jupyter.widget-view+json": {
       "model_id": "0e46efb296aa4c88be9e66fe551b7711",
       "version_major": 2,
       "version_minor": 0
      },
      "text/plain": [
       "interactive(children=(Text(value='', description='text_input'), Output()), _dom_classes=('widget-interact',))"
      ]
     },
     "metadata": {},
     "output_type": "display_data"
    }
   ],
   "source": [
    "interact(run_model,text_input=str(input_text.value));"
   ]
  },
  {
   "cell_type": "code",
   "execution_count": null,
   "id": "71866931-0202-4b09-a65f-6ad9c6eeb55b",
   "metadata": {},
   "outputs": [],
   "source": [
    "# for i, row_list in enumerate(lda_model_tfidf_lem_5[corpus]):\n",
    "#     row = row_list[0] if lda_model_tfidf_lem_5.per_word_topics else row_list            \n",
    "#     row = sorted(row, key=lambda x: (x[1]), reverse=True)\n",
    "#     # print(row)\n",
    "#         # Get the Dominant topic, Perc Contribution and Keywords for each document\n",
    "#     for j, (topic_num, prop_topic) in enumerate(row):\n",
    "#         if j == 0:  # => dominant topic\n",
    "#             wp = lda_model_tfidf_lem_5.show_topic(topic_num)\n",
    "#             topic_keywords = \", \".join([word for word, prop in wp])\n",
    "#             print([int(topic_num), prop_topic, topic_keywords])\n",
    "\n"
   ]
  }
 ],
 "metadata": {
  "kernelspec": {
   "display_name": "Python 3 (ipykernel)",
   "language": "python",
   "name": "python3"
  },
  "language_info": {
   "codemirror_mode": {
    "name": "ipython",
    "version": 3
   },
   "file_extension": ".py",
   "mimetype": "text/x-python",
   "name": "python",
   "nbconvert_exporter": "python",
   "pygments_lexer": "ipython3",
   "version": "3.9.7"
  }
 },
 "nbformat": 4,
 "nbformat_minor": 5
}
